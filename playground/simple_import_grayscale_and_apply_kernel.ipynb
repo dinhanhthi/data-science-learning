{
  "nbformat": 4,
  "nbformat_minor": 0,
  "metadata": {
    "colab": {
      "name": "simple-import-grayscale-and-apply-kernel.ipynb",
      "provenance": [],
      "collapsed_sections": [],
      "authorship_tag": "ABX9TyMDLNZSwBBCHD6AmfL3TNpe",
      "include_colab_link": true
    },
    "kernelspec": {
      "name": "python3",
      "display_name": "Python 3"
    },
    "language_info": {
      "name": "python"
    }
  },
  "cells": [
    {
      "cell_type": "markdown",
      "metadata": {
        "id": "view-in-github",
        "colab_type": "text"
      },
      "source": [
        "<a href=\"https://colab.research.google.com/github/dinhanhthi/data-science-learning/blob/master/playground/simple_import_grayscale_and_apply_kernel.ipynb\" target=\"_parent\"><img src=\"https://colab.research.google.com/assets/colab-badge.svg\" alt=\"Open In Colab\"/></a>"
      ]
    },
    {
      "cell_type": "code",
      "execution_count": 16,
      "metadata": {
        "id": "azVeqlSzIDAp",
        "colab": {
          "base_uri": "https://localhost:8080/"
        },
        "outputId": "c5ef4951-7117-46b7-de46-4591c669ad57"
      },
      "outputs": [
        {
          "output_type": "stream",
          "name": "stdout",
          "text": [
            "The autoreload extension is already loaded. To reload it, use:\n",
            "  %reload_ext autoreload\n"
          ]
        }
      ],
      "source": [
        "%load_ext autoreload\n",
        "%autoreload 2"
      ]
    },
    {
      "cell_type": "code",
      "source": [
        "from google.colab import drive\n",
        "drive.mount('/content/gdrive')"
      ],
      "metadata": {
        "colab": {
          "base_uri": "https://localhost:8080/"
        },
        "id": "D52DpMA1Was-",
        "outputId": "f483d33a-c2d5-4e85-ee54-7acd21ef42a0"
      },
      "execution_count": 3,
      "outputs": [
        {
          "output_type": "stream",
          "name": "stdout",
          "text": [
            "Mounted at /content/gdrive\n"
          ]
        }
      ]
    },
    {
      "cell_type": "code",
      "source": [
        "colab_notebook = '/content/gdrive/My Drive/Colab Notebooks'"
      ],
      "metadata": {
        "id": "y7x-dD2C7Mxm"
      },
      "execution_count": 6,
      "outputs": []
    },
    {
      "cell_type": "code",
      "source": [
        "import sys\n",
        "sys.path.append(colab_notebook + '/INSTALLED_LIBS')"
      ],
      "metadata": {
        "id": "How_KvcjJPAB"
      },
      "execution_count": 4,
      "outputs": []
    },
    {
      "cell_type": "code",
      "source": [
        "!ls"
      ],
      "metadata": {
        "id": "5ZEd7rSSWjM7",
        "colab": {
          "base_uri": "https://localhost:8080/"
        },
        "outputId": "b2923b97-1449-44a3-e98d-bb3f7ad814d8"
      },
      "execution_count": 5,
      "outputs": [
        {
          "output_type": "stream",
          "name": "stdout",
          "text": [
            "gdrive\tsample_data\n"
          ]
        }
      ]
    },
    {
      "cell_type": "code",
      "source": [
        "data_dir = colab_notebook + '/DATA'"
      ],
      "metadata": {
        "id": "y6G4JEkT61YZ"
      },
      "execution_count": 7,
      "outputs": []
    },
    {
      "cell_type": "code",
      "source": [
        "import numpy as np\n",
        "import scipy\n",
        "import scipy.signal as sig\n",
        "import matplotlib.pyplot as plt"
      ],
      "metadata": {
        "id": "gmuMZ6jC7gOQ"
      },
      "execution_count": 8,
      "outputs": []
    },
    {
      "cell_type": "code",
      "source": [
        "from matplotlib.pyplot import imread"
      ],
      "metadata": {
        "id": "RHKbWYolCHAb"
      },
      "execution_count": 28,
      "outputs": []
    },
    {
      "cell_type": "code",
      "source": [
        "from PIL import Image\n",
        "img = Image.open(data_dir + \"/2004-manu1.jpeg\").convert('L') # grayscale\n",
        "\n",
        "# Define the Sobel operator kernels.\n",
        "kernel_x = np.array([[-1, 0, 1],[-2, 0, 2],[-1, 0, 1]])\n",
        "kernel_y = np.array([[1, 2, 1], [0, 0, 0], [-1, -2, -1]])\n",
        "\n",
        "G_x = sig.convolve2d(img, kernel_x, mode='same') \n",
        "G_y = sig.convolve2d(img, kernel_y, mode='same') \n",
        "\n",
        "# Plot them!\n",
        "fig = plt.figure()\n",
        "ax1 = fig.add_subplot(121)\n",
        "ax2 = fig.add_subplot(122)\n",
        "\n",
        "# Actually plt.imshow() can handle the value scale well even if I don't do \n",
        "# the transformation (G_x + 255) / 2.\n",
        "ax1.imshow((G_x + 255) / 2, cmap='gray'); ax1.set_xlabel(\"Gx\")\n",
        "ax2.imshow((G_y + 255) / 2, cmap='gray'); ax2.set_xlabel(\"Gy\")\n",
        "plt.show()"
      ],
      "metadata": {
        "colab": {
          "base_uri": "https://localhost:8080/",
          "height": 180
        },
        "id": "XmfFa2Gf7XAq",
        "outputId": "b691bc9b-a259-4471-9a5c-a63358be1d6d"
      },
      "execution_count": 32,
      "outputs": [
        {
          "output_type": "display_data",
          "data": {
            "text/plain": [
              "<Figure size 432x288 with 2 Axes>"
            ],
            "image/png": "[encoded data removed]"
          },
          "metadata": {
            "needs_background": "light"
          }
        }
      ]
    },
    {
      "cell_type": "code",
      "source": [
        "!pip show scipy"
      ],
      "metadata": {
        "colab": {
          "base_uri": "https://localhost:8080/"
        },
        "id": "kR5_bf0W7qFU",
        "outputId": "31c5b14c-2216-4922-96ca-855e587f7b27"
      },
      "execution_count": 26,
      "outputs": [
        {
          "output_type": "stream",
          "name": "stdout",
          "text": [
            "Name: scipy\n",
            "Version: 1.4.1\n",
            "Summary: SciPy: Scientific Library for Python\n",
            "Home-page: https://www.scipy.org\n",
            "Author: None\n",
            "Author-email: None\n",
            "License: BSD\n",
            "Location: /usr/local/lib/python3.7/dist-packages\n",
            "Requires: numpy\n",
            "Required-by: yellowbrick, xgboost, xarray-einstats, Theano-PyMC, statsmodels, sklearn-pandas, seaborn, scs, scikit-learn, scikit-image, resampy, qdldl, pymc3, plotnine, osqp, mlxtend, missingno, matplotlib-venn, lightgbm, librosa, jaxlib, jax, imgaug, imbalanced-learn, hyperopt, gym, gensim, fastai, fa2, ecos, cvxpy, arviz, albumentations\n"
          ]
        }
      ]
    },
    {
      "cell_type": "markdown",
      "source": [
        "## Install packages to gdrive"
      ],
      "metadata": {
        "id": "7-rZ4HMr9hV-"
      }
    },
    {
      "cell_type": "code",
      "source": [
        "import os, sys\n",
        "from google.colab import drive\n",
        "# drive.mount('/content/gdrive') # already done in previous steps\n",
        "nb_path = '/content/notebooks'\n",
        "os.symlink('/content/gdrive/My Drive/Colab Notebooks/INSTALLED_LIBS', nb_path)\n",
        "sys.path.insert(0, nb_path)"
      ],
      "metadata": {
        "id": "Gr7ybCmP9ffZ"
      },
      "execution_count": 10,
      "outputs": []
    },
    {
      "cell_type": "code",
      "source": [
        "!pip install --target=$nb_path Pillow"
      ],
      "metadata": {
        "colab": {
          "base_uri": "https://localhost:8080/"
        },
        "id": "a2v7FjhR9gBR",
        "outputId": "3022b84f-a20d-4003-82ff-6d687126a1fc"
      },
      "execution_count": 11,
      "outputs": [
        {
          "output_type": "stream",
          "name": "stdout",
          "text": [
            "Looking in indexes: https://pypi.org/simple, https://us-python.pkg.dev/colab-wheels/public/simple/\n",
            "Collecting Pillow\n",
            "  Downloading Pillow-9.2.0-cp37-cp37m-manylinux_2_17_x86_64.manylinux2014_x86_64.whl (3.1 MB)\n",
            "\u001b[K     |████████████████████████████████| 3.1 MB 7.8 MB/s \n",
            "\u001b[?25hInstalling collected packages: Pillow\n",
            "\u001b[31mERROR: pip's dependency resolver does not currently take into account all the packages that are installed. This behaviour is the source of the following dependency conflicts.\n",
            "albumentations 0.1.12 requires imgaug<0.2.7,>=0.2.5, but you have imgaug 0.2.9 which is incompatible.\u001b[0m\n",
            "Successfully installed Pillow-9.2.0\n"
          ]
        }
      ]
    },
    {
      "cell_type": "code",
      "source": [
        "!pip show Pillow"
      ],
      "metadata": {
        "colab": {
          "base_uri": "https://localhost:8080/"
        },
        "id": "J1Ramg789gGU",
        "outputId": "6cf002a2-8dd1-443b-9c71-6f25afd00d14"
      },
      "execution_count": 13,
      "outputs": [
        {
          "output_type": "stream",
          "name": "stdout",
          "text": [
            "Name: Pillow\n",
            "Version: 7.1.2\n",
            "Summary: Python Imaging Library (Fork)\n",
            "Home-page: https://python-pillow.org\n",
            "Author: Alex Clark (PIL Fork Author)\n",
            "Author-email: aclark@python-pillow.org\n",
            "License: HPND\n",
            "Location: /usr/local/lib/python3.7/dist-packages\n",
            "Requires: \n",
            "Required-by: wordcloud, torchvision, scikit-image, imgaug, imageio, fastai, bokeh\n"
          ]
        }
      ]
    },
    {
      "cell_type": "code",
      "source": [
        "import scipy.misc"
      ],
      "metadata": {
        "id": "_O8HtZOw9gLQ"
      },
      "execution_count": 14,
      "outputs": []
    },
    {
      "cell_type": "code",
      "source": [
        "scipy.misc.imread"
      ],
      "metadata": {
        "colab": {
          "base_uri": "https://localhost:8080/",
          "height": 169
        },
        "id": "S7o9GlMW9gRN",
        "outputId": "bae77946-bf0c-4b1d-edf3-fd31fa16e80d"
      },
      "execution_count": 15,
      "outputs": [
        {
          "output_type": "error",
          "ename": "AttributeError",
          "evalue": "ignored",
          "traceback": [
            "\u001b[0;31m---------------------------------------------------------------------------\u001b[0m",
            "\u001b[0;31mAttributeError\u001b[0m                            Traceback (most recent call last)",
            "\u001b[0;32m<ipython-input-15-d985fb40c43d>\u001b[0m in \u001b[0;36m<module>\u001b[0;34m()\u001b[0m\n\u001b[0;32m----> 1\u001b[0;31m \u001b[0mscipy\u001b[0m\u001b[0;34m.\u001b[0m\u001b[0mmisc\u001b[0m\u001b[0;34m.\u001b[0m\u001b[0mimread\u001b[0m\u001b[0;34m\u001b[0m\u001b[0;34m\u001b[0m\u001b[0m\n\u001b[0m",
            "\u001b[0;31mAttributeError\u001b[0m: module 'scipy.misc' has no attribute 'imread'"
          ]
        }
      ]
    },
    {
      "cell_type": "code",
      "source": [
        ""
      ],
      "metadata": {
        "id": "raswQi1OB7HH"
      },
      "execution_count": null,
      "outputs": []
    }
  ]
}