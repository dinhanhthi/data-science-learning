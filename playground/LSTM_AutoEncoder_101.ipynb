{
 "cells": [
  {
   "cell_type": "markdown",
   "metadata": {},
   "source": [
    "# LSTM Autoencoder 101\n",
    "\n",
    "[**Anh-Thi DINH**](https://dinhanhthi.com) -- *Update: 1/1/2020.*\n",
    "\n",
    "***Aim:*** (There are some points which are not LSTM)\n",
    "\n",
    "- [x] Why PyTorch? (not Keras and TensorFlow)\n",
    "- [ ] Understand the basic idea.\n",
    "- [ ] Understand with examples.\n",
    "- [ ] Saving the references for later checking.\n",
    "- [ ] Apply in using with Pytorch."
   ]
  },
  {
   "cell_type": "markdown",
   "metadata": {},
   "source": [
    "## References\n",
    "\n",
    "### Understand ideas\n",
    "\n",
    "1. [A Gentle Introduction to LSTM Autoencoders](https://machinelearningmastery.com/lstm-autoencoders/) - *machinelearningmastery*. → **Keras**.\n",
    "2. [Encoder-Decoder Long Short-Term Memory Networks](https://machinelearningmastery.com/encoder-decoder-long-short-term-memory-networks/) - *machinelearningmastery*. → **Keras**."
   ]
  },
  {
   "cell_type": "markdown",
   "metadata": {},
   "source": [
    "## Why PyTorch?\n",
    "\n",
    "- Short training duration.\n",
    "- It can live on its own (like TF, but Keras).\n",
    "- Speed fast (like TF, more than Keras).\n",
    "- For large dataset.\n",
    "- Take full advantage of GPU.\n",
    "- Flexibility.\n",
    "- Debugging capabilities."
   ]
  },
  {
   "cell_type": "markdown",
   "metadata": {},
   "source": [
    "## Learning by doing"
   ]
  },
  {
   "cell_type": "code",
   "execution_count": 1,
   "metadata": {},
   "outputs": [],
   "source": [
    "use_colab = 0 # 1 if you use Google Colab to read/run this notebook\n",
    "\n",
    "if use_colab:\n",
    "    folder_url = 'https://raw.githubusercontent.com/dinhanhthi/data-science-learning/master/mini-projects/data/'\n",
    "    data_url = folder_url + './'\n",
    "else:\n",
    "    dataset_url = './data/' # if you use localhost"
   ]
  },
  {
   "cell_type": "code",
   "execution_count": 2,
   "metadata": {},
   "outputs": [],
   "source": [
    "import pandas as pd # import pandas package\n",
    "import numpy as np\n",
    "\n",
    "# show the plots inside the notebook\n",
    "%matplotlib inline "
   ]
  },
  {
   "cell_type": "code",
   "execution_count": 3,
   "metadata": {},
   "outputs": [],
   "source": []
  }
 ],
 "metadata": {
  "kernelspec": {
   "display_name": "Python 3",
   "language": "python",
   "name": "python3"
  },
  "language_info": {
   "codemirror_mode": {
    "name": "ipython",
    "version": 3
   },
   "file_extension": ".py",
   "mimetype": "text/x-python",
   "name": "python",
   "nbconvert_exporter": "python",
   "pygments_lexer": "ipython3",
   "version": "3.7.4"
  }
 },
 "nbformat": 4,
 "nbformat_minor": 2
}
